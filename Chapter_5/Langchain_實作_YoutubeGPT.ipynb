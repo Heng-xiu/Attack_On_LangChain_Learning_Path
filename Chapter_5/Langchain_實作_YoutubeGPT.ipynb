{
  "nbformat": 4,
  "nbformat_minor": 0,
  "metadata": {
    "colab": {
      "provenance": [],
      "gpuType": "T4"
    },
    "kernelspec": {
      "name": "python3",
      "display_name": "Python 3"
    },
    "language_info": {
      "name": "python"
    },
    "accelerator": "GPU",
    "gpuClass": "standard"
  },
  "cells": [
    {
      "cell_type": "markdown",
      "source": [
        "# Youtube"
      ],
      "metadata": {
        "id": "wVce5SRRDFUW"
      }
    },
    {
      "cell_type": "markdown",
      "source": [
        "## 套件安裝與環境建置"
      ],
      "metadata": {
        "id": "LgB55Lwh0NiH"
      }
    },
    {
      "cell_type": "markdown",
      "source": [
        "### 安裝\n",
        "\n",
        "在開始之前，需要先安裝兩個套件，分別為 LangChain 以及 OpenAI。LangChain 通常需要將一個或多個模型、向量資料庫、API 等進行整合。本章節我們將使用 OpenAI 的 API，因此需要安裝 SDK。"
      ],
      "metadata": {
        "id": "P7AscYFrDSDA"
      }
    },
    {
      "cell_type": "code",
      "execution_count": null,
      "metadata": {
        "colab": {
          "base_uri": "https://localhost:8080/"
        },
        "id": "3aYPt9-wAvLB",
        "outputId": "b09a665c-1c4e-4f3d-d197-00d5715cf307"
      },
      "outputs": [
        {
          "output_type": "stream",
          "name": "stdout",
          "text": [
            "Looking in indexes: https://pypi.org/simple, https://us-python.pkg.dev/colab-wheels/public/simple/\n",
            "Requirement already satisfied: openai in /usr/local/lib/python3.10/dist-packages (0.27.5)\n",
            "Requirement already satisfied: aiohttp in /usr/local/lib/python3.10/dist-packages (from openai) (3.8.4)\n",
            "Requirement already satisfied: tqdm in /usr/local/lib/python3.10/dist-packages (from openai) (4.65.0)\n",
            "Requirement already satisfied: requests>=2.20 in /usr/local/lib/python3.10/dist-packages (from openai) (2.27.1)\n",
            "Requirement already satisfied: idna<4,>=2.5 in /usr/local/lib/python3.10/dist-packages (from requests>=2.20->openai) (3.4)\n",
            "Requirement already satisfied: charset-normalizer~=2.0.0 in /usr/local/lib/python3.10/dist-packages (from requests>=2.20->openai) (2.0.12)\n",
            "Requirement already satisfied: certifi>=2017.4.17 in /usr/local/lib/python3.10/dist-packages (from requests>=2.20->openai) (2022.12.7)\n",
            "Requirement already satisfied: urllib3<1.27,>=1.21.1 in /usr/local/lib/python3.10/dist-packages (from requests>=2.20->openai) (1.26.15)\n",
            "Requirement already satisfied: async-timeout<5.0,>=4.0.0a3 in /usr/local/lib/python3.10/dist-packages (from aiohttp->openai) (4.0.2)\n",
            "Requirement already satisfied: aiosignal>=1.1.2 in /usr/local/lib/python3.10/dist-packages (from aiohttp->openai) (1.3.1)\n",
            "Requirement already satisfied: attrs>=17.3.0 in /usr/local/lib/python3.10/dist-packages (from aiohttp->openai) (23.1.0)\n",
            "Requirement already satisfied: yarl<2.0,>=1.0 in /usr/local/lib/python3.10/dist-packages (from aiohttp->openai) (1.9.2)\n",
            "Requirement already satisfied: multidict<7.0,>=4.5 in /usr/local/lib/python3.10/dist-packages (from aiohttp->openai) (6.0.4)\n",
            "Requirement already satisfied: frozenlist>=1.1.1 in /usr/local/lib/python3.10/dist-packages (from aiohttp->openai) (1.3.3)\n",
            "Looking in indexes: https://pypi.org/simple, https://us-python.pkg.dev/colab-wheels/public/simple/\n",
            "Requirement already satisfied: langchain in /usr/local/lib/python3.10/dist-packages (0.0.154)\n",
            "Requirement already satisfied: numpy<2,>=1 in /usr/local/lib/python3.10/dist-packages (from langchain) (1.22.4)\n",
            "Requirement already satisfied: aiohttp<4.0.0,>=3.8.3 in /usr/local/lib/python3.10/dist-packages (from langchain) (3.8.4)\n",
            "Requirement already satisfied: requests<3,>=2 in /usr/local/lib/python3.10/dist-packages (from langchain) (2.27.1)\n",
            "Requirement already satisfied: numexpr<3.0.0,>=2.8.4 in /usr/local/lib/python3.10/dist-packages (from langchain) (2.8.4)\n",
            "Requirement already satisfied: PyYAML>=5.4.1 in /usr/local/lib/python3.10/dist-packages (from langchain) (6.0)\n",
            "Requirement already satisfied: async-timeout<5.0.0,>=4.0.0 in /usr/local/lib/python3.10/dist-packages (from langchain) (4.0.2)\n",
            "Requirement already satisfied: dataclasses-json<0.6.0,>=0.5.7 in /usr/local/lib/python3.10/dist-packages (from langchain) (0.5.7)\n",
            "Requirement already satisfied: tenacity<9.0.0,>=8.1.0 in /usr/local/lib/python3.10/dist-packages (from langchain) (8.2.2)\n",
            "Requirement already satisfied: tqdm>=4.48.0 in /usr/local/lib/python3.10/dist-packages (from langchain) (4.65.0)\n",
            "Requirement already satisfied: openapi-schema-pydantic<2.0,>=1.2 in /usr/local/lib/python3.10/dist-packages (from langchain) (1.2.4)\n",
            "Requirement already satisfied: pydantic<2,>=1 in /usr/local/lib/python3.10/dist-packages (from langchain) (1.10.7)\n",
            "Requirement already satisfied: SQLAlchemy<3,>1.4 in /usr/local/lib/python3.10/dist-packages (from langchain) (2.0.10)\n",
            "Requirement already satisfied: yarl<2.0,>=1.0 in /usr/local/lib/python3.10/dist-packages (from aiohttp<4.0.0,>=3.8.3->langchain) (1.9.2)\n",
            "Requirement already satisfied: aiosignal>=1.1.2 in /usr/local/lib/python3.10/dist-packages (from aiohttp<4.0.0,>=3.8.3->langchain) (1.3.1)\n",
            "Requirement already satisfied: attrs>=17.3.0 in /usr/local/lib/python3.10/dist-packages (from aiohttp<4.0.0,>=3.8.3->langchain) (23.1.0)\n",
            "Requirement already satisfied: frozenlist>=1.1.1 in /usr/local/lib/python3.10/dist-packages (from aiohttp<4.0.0,>=3.8.3->langchain) (1.3.3)\n",
            "Requirement already satisfied: charset-normalizer<4.0,>=2.0 in /usr/local/lib/python3.10/dist-packages (from aiohttp<4.0.0,>=3.8.3->langchain) (2.0.12)\n",
            "Requirement already satisfied: multidict<7.0,>=4.5 in /usr/local/lib/python3.10/dist-packages (from aiohttp<4.0.0,>=3.8.3->langchain) (6.0.4)\n",
            "Requirement already satisfied: marshmallow-enum<2.0.0,>=1.5.1 in /usr/local/lib/python3.10/dist-packages (from dataclasses-json<0.6.0,>=0.5.7->langchain) (1.5.1)\n",
            "Requirement already satisfied: typing-inspect>=0.4.0 in /usr/local/lib/python3.10/dist-packages (from dataclasses-json<0.6.0,>=0.5.7->langchain) (0.8.0)\n",
            "Requirement already satisfied: marshmallow<4.0.0,>=3.3.0 in /usr/local/lib/python3.10/dist-packages (from dataclasses-json<0.6.0,>=0.5.7->langchain) (3.19.0)\n",
            "Requirement already satisfied: typing-extensions>=4.2.0 in /usr/local/lib/python3.10/dist-packages (from pydantic<2,>=1->langchain) (4.5.0)\n",
            "Requirement already satisfied: idna<4,>=2.5 in /usr/local/lib/python3.10/dist-packages (from requests<3,>=2->langchain) (3.4)\n",
            "Requirement already satisfied: urllib3<1.27,>=1.21.1 in /usr/local/lib/python3.10/dist-packages (from requests<3,>=2->langchain) (1.26.15)\n",
            "Requirement already satisfied: certifi>=2017.4.17 in /usr/local/lib/python3.10/dist-packages (from requests<3,>=2->langchain) (2022.12.7)\n",
            "Requirement already satisfied: greenlet!=0.4.17 in /usr/local/lib/python3.10/dist-packages (from SQLAlchemy<3,>1.4->langchain) (2.0.2)\n",
            "Requirement already satisfied: packaging>=17.0 in /usr/local/lib/python3.10/dist-packages (from marshmallow<4.0.0,>=3.3.0->dataclasses-json<0.6.0,>=0.5.7->langchain) (23.1)\n",
            "Requirement already satisfied: mypy-extensions>=0.3.0 in /usr/local/lib/python3.10/dist-packages (from typing-inspect>=0.4.0->dataclasses-json<0.6.0,>=0.5.7->langchain) (1.0.0)\n",
            "Looking in indexes: https://pypi.org/simple, https://us-python.pkg.dev/colab-wheels/public/simple/\n",
            "Requirement already satisfied: pytube in /usr/local/lib/python3.10/dist-packages (12.1.3)\n",
            "  Installing build dependencies ... \u001b[?25l\u001b[?25hdone\n",
            "  Getting requirements to build wheel ... \u001b[?25l\u001b[?25hdone\n",
            "  Preparing metadata (pyproject.toml) ... \u001b[?25l\u001b[?25hdone\n",
            "Looking in indexes: https://pypi.org/simple, https://us-python.pkg.dev/colab-wheels/public/simple/\n",
            "Requirement already satisfied: youtube-transcript-api in /usr/local/lib/python3.10/dist-packages (0.6.0)\n",
            "Requirement already satisfied: requests in /usr/local/lib/python3.10/dist-packages (from youtube-transcript-api) (2.27.1)\n",
            "Requirement already satisfied: certifi>=2017.4.17 in /usr/local/lib/python3.10/dist-packages (from requests->youtube-transcript-api) (2022.12.7)\n",
            "Requirement already satisfied: urllib3<1.27,>=1.21.1 in /usr/local/lib/python3.10/dist-packages (from requests->youtube-transcript-api) (1.26.15)\n",
            "Requirement already satisfied: charset-normalizer~=2.0.0 in /usr/local/lib/python3.10/dist-packages (from requests->youtube-transcript-api) (2.0.12)\n",
            "Requirement already satisfied: idna<4,>=2.5 in /usr/local/lib/python3.10/dist-packages (from requests->youtube-transcript-api) (3.4)\n",
            "Looking in indexes: https://pypi.org/simple, https://us-python.pkg.dev/colab-wheels/public/simple/\n",
            "Requirement already satisfied: pysrt in /usr/local/lib/python3.10/dist-packages (1.1.2)\n",
            "Requirement already satisfied: chardet in /usr/local/lib/python3.10/dist-packages (from pysrt) (4.0.0)\n"
          ]
        }
      ],
      "source": [
        "!pip install openai\n",
        "!pip install langchain\n",
        "!pip install pytube # For audio downloading\n",
        "!pip install git+https://github.com/openai/whisper.git -q # Whisper from OpenAI transcription model\n",
        "!pip install youtube-transcript-api\n",
        "!pip install pysrt"
      ]
    },
    {
      "cell_type": "markdown",
      "source": [
        "### 環境參數設置\n",
        "\n",
        "本章節中，將會使用到 OpenAI API key。"
      ],
      "metadata": {
        "id": "1pQp_TKEDU7J"
      }
    },
    {
      "cell_type": "code",
      "source": [
        "import os\n",
        "os.environ[\"OPENAI_API_KEY\"] = \"sk-xxx\" # 會是 sk-XXXX 樣式的字樣"
      ],
      "metadata": {
        "id": "iMbYecBGDVQ0"
      },
      "execution_count": null,
      "outputs": []
    },
    {
      "cell_type": "markdown",
      "source": [
        "## 讀取 Youtube 影片\n",
        "\n",
        "*   YoutubeLoader\n",
        "*   pytube"
      ],
      "metadata": {
        "id": "545icdv-DofJ"
      }
    },
    {
      "cell_type": "markdown",
      "source": [
        "### Youtube loader 方式\n",
        "\n",
        "Langchain 當中有提供 loader，讀取 youtube 字幕。\n",
        "\n",
        "官方連結：[Youtube_download_loader](https://python.langchain.com/en/latest/modules/indexes/document_loaders/examples/youtube.html#youtube)\n",
        "\n",
        "Github 程式碼：[Source code](https://python.langchain.com/en/latest/_modules/langchain/document_loaders/youtube.html)"
      ],
      "metadata": {
        "id": "OuUjfcJL0epT"
      }
    },
    {
      "cell_type": "code",
      "source": [
        "from langchain.llms import OpenAI\n",
        "from langchain.document_loaders import YoutubeLoader\n",
        "\n",
        "# 無字幕 => https://www.youtube.com/watch?v=bSvTVREwSNw&ab_channel=ByteByteGo\n",
        "# 有字幕 => https://www.youtube.com/watch?v=C_78DM8fG6E\n",
        "loader = YoutubeLoader.from_youtube_url(\"https://www.youtube.com/watch?v=bSvTVREwSNw&ab_channel=ByteByteGo\")\n",
        "result = loader.load()"
      ],
      "metadata": {
        "id": "GwfGdXZe1EhW"
      },
      "execution_count": null,
      "outputs": []
    },
    {
      "cell_type": "code",
      "source": [
        "result"
      ],
      "metadata": {
        "colab": {
          "base_uri": "https://localhost:8080/"
        },
        "id": "84opQyVQDfvx",
        "outputId": "44542368-adae-46a8-d2ff-78fe3e24a155"
      },
      "execution_count": null,
      "outputs": [
        {
          "output_type": "execute_result",
          "data": {
            "text/plain": [
              "[Document(page_content='We started OpenAI seven years ago because we felt like something\\nreally interesting was happening in AI and we wanted to help steer it\\nin a positive direction. It\\'s honestly just really amazing to see how far this whole field\\nhas come since then. And it\\'s really gratifying to hear\\nfrom people like Raymond who are using the technology\\nwe are building, and others, for so many wonderful things. We hear from people who are excited, we hear from people who are concerned, we hear from people who feel\\nboth those emotions at once. And honestly, that\\'s how we feel. Above all, it feels like we\\'re entering\\nan historic period right now where we as a world\\nare going to define a technology that will be so important\\nfor our society going forward. And I believe that we can\\nmanage this for good. So today, I want to show you\\nthe current state of that technology and some of the underlying\\ndesign principles that we hold dear. So the first thing I\\'m going to show you is what it\\'s like to build\\na tool for an AI rather than building it for a human. So we have a new DALL-E model,\\nwhich generates images, and we are exposing it as an app\\nfor ChatGPT to use on your behalf. And you can do things like ask, you know, suggest a nice post-TED meal\\nand draw a picture of it. (Laughter) Now you get all of the, sort of,\\nideation and creative back-and-forth and taking care of the details for you\\nthat you get out of ChatGPT. And here we go, it\\'s not just\\nthe idea for the meal, but a very, very detailed spread. So let\\'s see what we\\'re going to get. But ChatGPT doesn\\'t just generate\\nimages in this case -- sorry, it doesn\\'t generate text,\\nit also generates an image. And that is something\\nthat really expands the power of what it can do on your behalf\\nin terms of carrying out your intent. And I\\'ll point out,\\nthis is all a live demo. This is all generated\\nby the AI as we speak. So I actually don\\'t even know\\nwhat we\\'re going to see. This looks wonderful. (Applause) I\\'m getting hungry just looking at it. Now we\\'ve extended ChatGPT\\nwith other tools too, for example, memory. You can say \"save this for later.\" And the interesting thing\\nabout these tools is they\\'re very inspectable. So you get this little pop up here\\nthat says \"use the DALL-E app.\" And by the way, this is coming to you, all\\nChatGPT users, over upcoming months. And you can look under the hood\\nand see that what it actually did was write a prompt\\njust like a human could. And so you sort of have\\nthis ability to inspect how the machine is using these tools, which allows us to provide\\nfeedback to them. Now it\\'s saved for later, and let me show you\\nwhat it\\'s like to use that information and to integrate\\nwith other applications too. You can say, “Now make a shopping list\\nfor the tasty thing I was suggesting earlier.” And make it a little tricky for the AI. \"And tweet it out for all\\nthe TED viewers out there.\" (Laughter) So if you do make this wonderful,\\nwonderful meal, I definitely want to know how it tastes. But you can see that ChatGPT\\nis selecting all these different tools without me having to tell it explicitly\\nwhich ones to use in any situation. And this, I think, shows a new way\\nof thinking about the user interface. Like, we are so used to thinking of,\\nwell, we have these apps, we click between them,\\nwe copy/paste between them, and usually it\\'s a great\\nexperience within an app as long as you kind of know\\nthe menus and know all the options. Yes, I would like you to. Yes, please. Always good to be polite. (Laughter) And by having this unified\\nlanguage interface on top of tools, the AI is able to sort of take away\\nall those details from you. So you don\\'t have to be the one who spells out every single\\nsort of little piece of what\\'s supposed to happen. And as I said, this is a live demo, so sometimes the unexpected\\nwill happen to us. But let\\'s take a look at the Instacart\\nshopping list while we\\'re at it. And you can see we sent a list\\nof ingredients to Instacart. Here\\'s everything you need. And the thing that\\'s really interesting is that the traditional UI\\nis still very valuable, right? If you look at this, you still can click through it\\nand sort of modify the actual quantities. And that\\'s something that I think shows that they\\'re not going away,\\ntraditional UIs. It\\'s just we have a new,\\naugmented way to build them. And now we have a tweet\\nthat\\'s been drafted for our review, which is also a very important thing. We can click “run,” and there we are,\\nwe’re the manager, we’re able to inspect, we\\'re able to change the work\\nof the AI if we want to. And so after this talk,\\nyou will be able to access this yourself. And there we go. Cool. Thank you, everyone. (Applause) So we’ll cut back to the slides. Now, the important thing\\nabout how we build this, it\\'s not just about building these tools. It\\'s about teaching\\nthe AI how to use them. Like, what do we even want it to do when we ask these very\\nhigh-level questions? And to do this, we use an old idea. If you go back to Alan Turing\\'s 1950 paper\\non the Turing test, he says, you\\'ll never program an answer to this. Instead, you can learn it. You could build a machine,\\nlike a human child, and then teach it through feedback. Have a human teacher who provides\\nrewards and punishments as it tries things out and does things\\nthat are either good or bad. And this is exactly how we train ChatGPT. It\\'s a two-step process. First, we produce what Turing\\nwould have called a child machine through an unsupervised learning process. We just show it the whole world,\\nthe whole internet and say, “Predict what comes next\\nin text you’ve never seen before.” And this process imbues it\\nwith all sorts of wonderful skills. For example, if you\\'re shown\\na math problem, the only way to actually\\ncomplete that math problem, to say what comes next, that green nine up there, is to actually solve the math problem. But we actually have to do\\na second step, too, which is to teach the AI\\nwhat to do with those skills. And for this, we provide feedback. We have the AI try out multiple things,\\ngive us multiple suggestions, and then a human rates them, says\\n“This one’s better than that one.” And this reinforces not just the specific\\nthing that the AI said, but very importantly, the whole process\\nthat the AI used to produce that answer. And this allows it to generalize. It allows it to teach,\\nto sort of infer your intent and apply it in scenarios\\nthat it hasn\\'t seen before, that it hasn\\'t received feedback. Now, sometimes the things\\nwe have to teach the AI are not what you\\'d expect. For example, when we first showed\\nGPT-4 to Khan Academy, they said, \"Wow, this is so great, We\\'re going to be able to teach\\nstudents wonderful things. Only one problem, it doesn\\'t\\ndouble-check students\\' math. If there\\'s some bad math in there, it will happily pretend that one plus one\\nequals three and run with it.\" So we had to collect some feedback data. Sal Khan himself was very kind and offered 20 hours of his own time\\nto provide feedback to the machine alongside our team. And over the course of a couple of months\\nwe were able to teach the AI that, \"Hey, you really should\\npush back on humans in this specific kind of scenario.\" And we\\'ve actually made lots and lots\\nof improvements to the models this way. And when you push\\nthat thumbs down in ChatGPT, that actually is kind of like sending up\\na bat signal to our team to say, “Here’s an area of weakness\\nwhere you should gather feedback.” And so when you do that, that\\'s one way that we really\\nlisten to our users and make sure we\\'re building something\\nthat\\'s more useful for everyone. Now, providing high-quality\\nfeedback is a hard thing. If you think about asking a kid\\nto clean their room, if all you\\'re doing\\nis inspecting the floor, you don\\'t know if you\\'re just teaching\\nthem to stuff all the toys in the closet. This is a nice DALL-E-generated\\nimage, by the way. And the same sort\\nof reasoning applies to AI. As we move to harder tasks, we will have to scale our ability\\nto provide high-quality feedback. But for this, the AI itself\\nis happy to help. It\\'s happy to help us provide\\neven better feedback and to scale our ability to supervise\\nthe machine as time goes on. And let me show you what I mean. For example, you can ask GPT-4\\na question like this, of how much time passed\\nbetween these two foundational blogs on unsupervised learning and learning from human feedback. And the model says two months passed. But is it true? Like, these models\\nare not 100-percent reliable, although they’re getting better\\nevery time we provide some feedback. But we can actually use\\nthe AI to fact-check. And it can actually check its own work. You can say, fact-check this for me. Now, in this case, I\\'ve actually\\ngiven the AI a new tool. This one is a browsing tool where the model can issue search queries\\nand click into web pages. And it actually writes out\\nits whole chain of thought as it does it. It says, I’m just going to search for this\\nand it actually does the search. It then it finds the publication date\\nand the search results. It then is issuing another search query. It\\'s going to click into the blog post. And all of this you could do,\\nbut it’s a very tedious task. It\\'s not a thing\\nthat humans really want to do. It\\'s much more fun\\nto be in the driver\\'s seat, to be in this manager\\'s position\\nwhere you can, if you want, triple-check the work. And out come citations so you can actually go and very easily verify any piece\\nof this whole chain of reasoning. And it actually turns out\\ntwo months was wrong. Two months and one week, that was correct. (Applause) And we\\'ll cut back to the side. And so thing that\\'s so interesting to me\\nabout this whole process is that it’s this many-step collaboration\\nbetween a human and an AI. Because a human, using\\nthis fact-checking tool is doing it in order to produce data for another AI to become\\nmore useful to a human. And I think this really shows\\nthe shape of something that we should expect to be\\nmuch more common in the future, where we have humans\\nand machines kind of very carefully and delicately designed\\nin how they fit into a problem and how we want\\nto solve that problem. We make sure that the humans are providing\\nthe management, the oversight, the feedback, and the machines are operating\\nin a way that\\'s inspectable and trustworthy. And together we\\'re able to actually create\\neven more trustworthy machines. And I think that over time,\\nif we get this process right, we will be able to solve\\nimpossible problems. And to give you a sense\\nof just how impossible I\\'m talking, I think we\\'re going to be able\\nto rethink almost every aspect of how we interact with computers. For example, think about spreadsheets. They\\'ve been around in some form since,\\nwe\\'ll say, 40 years ago with VisiCalc. I don\\'t think they\\'ve really\\nchanged that much in that time. And here is a specific spreadsheet\\nof all the AI papers on the arXiv for the past 30 years. There\\'s about 167,000 of them. And you can see there the data right here. But let me show you the ChatGPT take\\non how to analyze a data set like this. So we can give ChatGPT\\naccess to yet another tool, this one a Python interpreter, so it’s able to run code,\\njust like a data scientist would. And so you can just\\nliterally upload a file and ask questions about it. And very helpfully, you know, it knows\\nthe name of the file and it\\'s like, \"Oh, this is CSV,\"\\ncomma-separated value file, \"I\\'ll parse it for you.\" The only information here\\nis the name of the file, the column names like you saw\\nand then the actual data. And from that it\\'s able to infer\\nwhat these columns actually mean. Like, that semantic information\\nwasn\\'t in there. It has to sort of, put together\\nits world knowledge of knowing that, “Oh yeah, arXiv is a site\\nthat people submit papers and therefore that\\'s what these things are\\nand that these are integer values and so therefore it\\'s a number\\nof authors in the paper,\" like all of that, that’s work\\nfor a human to do, and the AI is happy to help with it. Now I don\\'t even know what I want to ask. So fortunately, you can ask the machine, \"Can you make some exploratory graphs?\" And once again, this is a super high-level\\ninstruction with lots of intent behind it. But I don\\'t even know what I want. And the AI kind of has to infer\\nwhat I might be interested in. And so it comes up\\nwith some good ideas, I think. So a histogram of the number\\nof authors per paper, time series of papers per year,\\nword cloud of the paper titles. All of that, I think,\\nwill be pretty interesting to see. And the great thing is,\\nit can actually do it. Here we go, a nice bell curve. You see that three\\nis kind of the most common. It\\'s going to then make this nice plot\\nof the papers per year. Something crazy\\nis happening in 2023, though. Looks like we were on an exponential\\nand it dropped off the cliff. What could be going on there? By the way, all this\\nis Python code, you can inspect. And then we\\'ll see word cloud. So you can see all these wonderful things\\nthat appear in these titles. But I\\'m pretty unhappy\\nabout this 2023 thing. It makes this year look really bad. Of course, the problem is\\nthat the year is not over. So I\\'m going to push back on the machine. [Waitttt that\\'s not fair!!! 2023 isn\\'t over. What percentage of papers in 2022\\nwere even posted by April 13?] So April 13 was the cut-off\\ndate I believe. Can you use that to make\\na fair projection? So we\\'ll see, this is\\nthe kind of ambitious one. (Laughter) So you know, again, I feel like there was more I wanted\\nout of the machine here. I really wanted it to notice this thing, maybe it\\'s a little bit\\nof an overreach for it to have sort of, inferred magically\\nthat this is what I wanted. But I inject my intent, I provide this additional piece\\nof, you know, guidance. And under the hood, the AI is just writing code again,\\nso if you want to inspect what it\\'s doing, it\\'s very possible. And now, it does the correct projection. (Applause) If you noticed, it even updates the title. I didn\\'t ask for that,\\nbut it know what I want. Now we\\'ll cut back to the slide again. This slide shows a parable\\nof how I think we ... A vision of how we may end up\\nusing this technology in the future. A person brought\\nhis very sick dog to the vet, and the veterinarian made a bad call\\nto say, “Let’s just wait and see.” And the dog would not\\nbe here today had he listened. In the meanwhile,\\nhe provided the blood test, like, the full medical records, to GPT-4, which said, \"I am not a vet,\\nyou need to talk to a professional, here are some hypotheses.\" He brought that information\\nto a second vet who used it to save the dog\\'s life. Now, these systems, they\\'re not perfect. You cannot overly rely on them. But this story, I think, shows that a human with a medical professional and with ChatGPT\\nas a brainstorming partner was able to achieve an outcome\\nthat would not have happened otherwise. I think this is something\\nwe should all reflect on, think about as we consider\\nhow to integrate these systems into our world. And one thing I believe really deeply, is that getting AI right is going\\nto require participation from everyone. And that\\'s for deciding\\nhow we want it to slot in, that\\'s for setting the rules of the road, for what an AI will and won\\'t do. And if there\\'s one thing\\nto take away from this talk, it\\'s that this technology\\njust looks different. Just different from anything\\npeople had anticipated. And so we all have to become literate. And that\\'s, honestly, one\\nof the reasons we released ChatGPT. Together, I believe that we can\\nachieve the OpenAI mission of ensuring that artificial\\ngeneral intelligence benefits all of humanity. Thank you. (Applause) (Applause ends) Chris Anderson: Greg. Wow. I mean ... I suspect that within every mind out here there\\'s a feeling of reeling. Like, I suspect that a very large\\nnumber of people viewing this, you look at that and you think,\\n“Oh my goodness, pretty much every single thing\\nabout the way I work, I need to rethink.\" Like, there\\'s just\\nnew possibilities there. Am I right? Who thinks that they\\'re having to rethink\\nthe way that we do things? Yeah, I mean, it\\'s amazing, but it\\'s also really scary. So let\\'s talk, Greg, let\\'s talk. I mean, I guess\\nmy first question actually is just how the hell have you done this? (Laughter) OpenAI has a few hundred employees. Google has thousands of employees\\nworking on artificial intelligence. Why is it you who\\'s come up\\nwith this technology that shocked the world? Greg Brockman: I mean, the truth is, we\\'re all building on shoulders\\nof giants, right, there\\'s no question. If you look at the compute progress, the algorithmic progress,\\nthe data progress, all of those are really industry-wide. But I think within OpenAI, we made a lot of very deliberate\\nchoices from the early days. And the first one was just\\nto confront reality as it lays. And that we just thought\\nreally hard about like: What is it going to take\\nto make progress here? We tried a lot of things that didn\\'t work,\\nso you only see the things that did. And I think that the most important thing\\nhas been to get teams of people who are very different from each other\\nto work together harmoniously. CA: Can we have the water,\\nby the way, just brought here? I think we\\'re going to need it,\\nit\\'s a dry-mouth topic. But isn\\'t there something also\\njust about the fact that you saw something\\nin these language models that meant that if you continue\\nto invest in them and grow them, that something\\nat some point might emerge? GB: Yes. And I think that, I mean, honestly, I think the story there\\nis pretty illustrative, right? I think that high level, deep learning, like we always knew that was\\nwhat we wanted to be, was a deep learning lab,\\nand exactly how to do it? I think that in the early days,\\nwe didn\\'t know. We tried a lot of things, and one person was working\\non training a model to predict the next character\\nin Amazon reviews, and he got a result where --\\nthis is a syntactic process, you expect, you know, the model\\nwill predict where the commas go, where the nouns and verbs are. But he actually got a state-of-the-art\\nsentiment analysis classifier out of it. This model could tell you\\nif a review was positive or negative. I mean, today we are just like,\\ncome on, anyone can do that. But this was the first time\\nthat you saw this emergence, this sort of semantics that emerged\\nfrom this underlying syntactic process. And there we knew,\\nyou\\'ve got to scale this thing, you\\'ve got to see where it goes. CA: So I think this helps explain the riddle that baffles\\neveryone looking at this, because these things are described\\nas prediction machines. And yet, what we\\'re seeing\\nout of them feels ... it just feels impossible that that\\ncould come from a prediction machine. Just the stuff you showed us just now. And the key idea of emergence\\nis that when you get more of a thing, suddenly different things emerge. It happens all the time, ant colonies,\\nsingle ants run around, when you bring enough of them together, you get these ant colonies that show\\ncompletely emergent, different behavior. Or a city where a few houses together,\\nit\\'s just houses together. But as you grow the number of houses, things emerge, like suburbs\\nand cultural centers and traffic jams. Give me one moment for you\\nwhen you saw just something pop that just blew your mind that you just did not see coming. GB: Yeah, well, so you can try this in ChatGPT,\\nif you add 40-digit numbers -- CA: 40-digit? GB: 40-digit numbers,\\nthe model will do it, which means it\\'s really learned\\nan internal circuit for how to do it. And the really interesting\\nthing is actually, if you have it add like a 40-digit number\\nplus a 35-digit number, it\\'ll often get it wrong. And so you can see that it\\'s really\\nlearning the process, but it hasn\\'t fully generalized, right? It\\'s like you can\\'t memorize\\nthe 40-digit addition table, that\\'s more atoms\\nthan there are in the universe. So it had to have learned\\nsomething general, but that it hasn\\'t really\\nfully yet learned that, Oh, I can sort of generalize this\\nto adding arbitrary numbers of arbitrary lengths. CA: So what\\'s happened here is that you\\'ve allowed it to scale up and look at an incredible\\nnumber of pieces of text. And it is learning things that you didn\\'t know that it was\\ngoing to be capable of learning. GB Well, yeah, and it’s more nuanced, too. So one science that we’re starting\\nto really get good at is predicting some of these\\nemergent capabilities. And to do that actually, one of the things I think\\nis very undersung in this field is sort of engineering quality. Like, we had to rebuild our entire stack. When you think about building a rocket, every tolerance has to be incredibly tiny. Same is true in machine learning. You have to get every single piece\\nof the stack engineered properly, and then you can start\\ndoing these predictions. There are all these incredibly\\nsmooth scaling curves. They tell you something deeply\\nfundamental about intelligence. If you look at our GPT-4 blog post, you can see all of these curves in there. And now we\\'re starting\\nto be able to predict. So we were able to predict, for example,\\nthe performance on coding problems. We basically look at some models that are 10,000 times\\nor 1,000 times smaller. And so there\\'s something about this\\nthat is actually smooth scaling, even though it\\'s still early days. CA: So here is, one of the big fears then, that arises from this. If it’s fundamental\\nto what’s happening here, that as you scale up, things emerge that you can maybe predict\\nin some level of confidence, but it\\'s capable of surprising you. Why isn\\'t there just a huge risk\\nof something truly terrible emerging? GB: Well, I think all of these\\nare questions of degree and scale and timing. And I think one thing people miss, too, is sort of the integration with the world\\nis also this incredibly emergent, sort of, very powerful thing too. And so that\\'s one of the reasons\\nthat we think it\\'s so important to deploy incrementally. And so I think that what we kind of see\\nright now, if you look at this talk, a lot of what I focus on is providing\\nreally high-quality feedback. Today, the tasks that we do,\\nyou can inspect them, right? It\\'s very easy to look at that math\\nproblem and be like, no, no, no, machine, seven was the correct answer. But even summarizing a book,\\nlike, that\\'s a hard thing to supervise. Like, how do you know\\nif this book summary is any good? You have to read the whole book. No one wants to do that. (Laughter) And so I think that the important thing\\nwill be that we take this step by step. And that we say, OK,\\nas we move on to book summaries, we have to supervise this task properly. We have to build up\\na track record with these machines that they\\'re able to actually\\ncarry out our intent. And I think we\\'re going to have to produce\\neven better, more efficient, more reliable ways of scaling this, sort of like making the machine\\nbe aligned with you. CA: So we\\'re going to hear\\nlater in this session, there are critics who say that, you know, there\\'s no real\\nunderstanding inside, the system is going to always -- we\\'re never going to know\\nthat it\\'s not generating errors, that it doesn\\'t have\\ncommon sense and so forth. Is it your belief, Greg,\\nthat it is true at any one moment, but that the expansion of the scale\\nand the human feedback that you talked about is basically\\ngoing to take it on that journey of actually getting to things\\nlike truth and wisdom and so forth, with a high degree of confidence. Can you be sure of that? GB: Yeah, well, I think that the OpenAI,\\nI mean, the short answer is yes, I believe that is where we\\'re headed. And I think that the OpenAI approach\\nhere has always been just like, let reality hit you in the face, right? It\\'s like this field is the field\\nof broken promises, of all these experts saying\\nX is going to happen, Y is how it works. People have been saying neural nets\\naren\\'t going to work for 70 years. They haven\\'t been right yet. They might be right\\nmaybe 70 years plus one or something like that is what you need. But I think that our approach\\nhas always been, you\\'ve got to push to the limits\\nof this technology to really see it in action, because that tells you then, oh, here\\'s\\nhow we can move on to a new paradigm. And we just haven\\'t exhausted\\nthe fruit here. CA: I mean, it\\'s quite\\na controversial stance you\\'ve taken, that the right way to do this\\nis to put it out there in public and then harness all this, you know, instead of just your team giving feedback, the world is now giving feedback. But ... If, you know, bad things\\nare going to emerge, it is out there. So, you know, the original story\\nthat I heard on OpenAI when you were founded as a nonprofit, well you were there as the great\\nsort of check on the big companies doing their unknown,\\npossibly evil thing with AI. And you were going to build models\\nthat sort of, you know, somehow held them accountable and was capable of slowing\\nthe field down, if need be. Or at least that\\'s kind of what I heard. And yet, what\\'s happened,\\narguably, is the opposite. That your release of GPT,\\nespecially ChatGPT, sent such shockwaves\\nthrough the tech world that now Google and Meta and so forth\\nare all scrambling to catch up. And some of their criticisms have been, you are forcing us to put this out here\\nwithout proper guardrails or we die. You know, how do you, like, make the case that what you have done\\nis responsible here and not reckless. GB: Yeah, we think about these\\nquestions all the time. Like, seriously all the time. And I don\\'t think we\\'re always\\ngoing to get it right. But one thing I think\\nhas been incredibly important, from the very beginning,\\nwhen we were thinking about how to build\\nartificial general intelligence, actually have it benefit all of humanity, like, how are you\\nsupposed to do that, right? And that default plan of being,\\nwell, you build in secret, you get this super powerful thing, and then you figure out the safety of it\\nand then you push “go,” and you hope you got it right. I don\\'t know how to execute that plan. Maybe someone else does. But for me, that was always terrifying,\\nit didn\\'t feel right. And so I think that this\\nalternative approach is the only other path that I see, which is that you do let\\nreality hit you in the face. And I think you do give people\\ntime to give input. You do have, before these\\nmachines are perfect, before they are super powerful,\\nthat you actually have the ability to see them in action. And we\\'ve seen it from GPT-3, right? GPT-3, we really were afraid that the number one thing\\npeople were going to do with it was generate misinformation,\\ntry to tip elections. Instead, the number one thing\\nwas generating Viagra spam. (Laughter) CA: So Viagra spam is bad,\\nbut there are things that are much worse. Here\\'s a thought experiment for you. Suppose you\\'re sitting in a room, there\\'s a box on the table. You believe that in that box\\nis something that, there\\'s a very strong chance\\nit\\'s something absolutely glorious that\\'s going to give beautiful gifts\\nto your family and to everyone. But there\\'s actually also a one percent\\nthing in the small print there that says: “Pandora.” And there\\'s a chance that this actually could unleash\\nunimaginable evils on the world. Do you open that box? GB: Well, so, absolutely not. I think you don\\'t do it that way. And honestly, like, I\\'ll tell you a story\\nthat I haven\\'t actually told before, which is that shortly\\nafter we started OpenAI, I remember I was in Puerto Rico\\nfor an AI conference. I\\'m sitting in the hotel room just\\nlooking out over this wonderful water, all these people having a good time. And you think about it for a moment, if you could choose for basically\\nthat Pandora’s box to be five years away or 500 years away, which would you pick, right? On the one hand you\\'re like,\\nwell, maybe for you personally, it\\'s better to have it be five years away. But if it gets to be 500 years away\\nand people get more time to get it right, which do you pick? And you know, I just\\nreally felt it in the moment. I was like, of course\\nyou do the 500 years. My brother was in the military at the time and like, he puts his life on the line\\nin a much more real way than any of us typing things in computers and developing this\\ntechnology at the time. And so, yeah, I\\'m really sold\\non the you\\'ve got to approach this right. But I don\\'t think that\\'s quite\\nplaying the field as it truly lies. Like, if you look at the whole\\nhistory of computing, I really mean it when I say\\nthat this is an industry-wide or even just almost like a human-development-\\nof-technology-wide shift. And the more that you sort of,\\ndon\\'t put together the pieces that are there, right, we\\'re still making faster computers, we\\'re still improving the algorithms,\\nall of these things, they are happening. And if you don\\'t put them together,\\nyou get an overhang, which means that if someone does, or the moment that someone does manage\\nto connect to the circuit, then you suddenly have\\nthis very powerful thing, no one\\'s had any time to adjust, who knows what kind\\nof safety precautions you get. And so I think\\nthat one thing I take away is like, even you think about development\\nof other sort of technologies, think about nuclear weapons, people talk about being\\nlike a zero to one, sort of, change in what humans could do. But I actually think\\nthat if you look at capability, it\\'s been quite smooth over time. And so the history, I think,\\nof every technology we\\'ve developed has been, you\\'ve got\\nto do it incrementally and you\\'ve got to figure out\\nhow to manage it for each moment that you\\'re increasing it. CA: So what I\\'m hearing is that you ... the model you want us to have is that we have birthed\\nthis extraordinary child that may have superpowers that take humanity to a whole new place. It is our collective responsibility\\nto provide the guardrails for this child to collectively teach it to be wise\\nand not to tear us all down. Is that basically the model? GB: I think it\\'s true. And I think it\\'s also important\\nto say this may shift, right? We\\'ve got to take each step\\nas we encounter it. And I think it\\'s incredibly\\nimportant today that we all do get literate\\nin this technology, figure out how to provide the feedback, decide what we want from it. And my hope is that that will\\ncontinue to be the best path, but it\\'s so good we\\'re honestly\\nhaving this debate because we wouldn\\'t otherwise\\nif it weren\\'t out there. CA: Greg Brockman, thank you so much\\nfor coming to TED and blowing our minds. (Applause)', metadata={'source': 'C_78DM8fG6E'})]"
            ]
          },
          "metadata": {},
          "execution_count": 5
        }
      ]
    },
    {
      "cell_type": "markdown",
      "source": [
        "### pytube 方式\n"
      ],
      "metadata": {
        "id": "vZtQ-ipV0cGh"
      }
    },
    {
      "cell_type": "code",
      "source": [
        "from pytube import YouTube"
      ],
      "metadata": {
        "id": "t2nveJcADpuV"
      },
      "execution_count": null,
      "outputs": []
    },
    {
      "cell_type": "code",
      "source": [
        "url = \"https://www.youtube.com/watch?v=bSvTVREwSNw&ab_channel=ByteByteGo\"\n",
        "video = YouTube(url, use_oauth=True, allow_oauth_cache=False)\n",
        "audio = video.streams.filter(only_audio=True).first()\n",
        "video_title = video.streams[0].title\n",
        "video.streams.get_highest_resolution().filesize"
      ],
      "metadata": {
        "colab": {
          "base_uri": "https://localhost:8080/"
        },
        "id": "2PBzMds8E26-",
        "outputId": "7412681a-51e2-4271-985d-7da7c2848705"
      },
      "execution_count": null,
      "outputs": [
        {
          "name": "stdout",
          "output_type": "stream",
          "text": [
            "Please open https://www.google.com/device and input code JYXV-CDNB\n",
            "Press enter when you have completed this step.enter\n"
          ]
        },
        {
          "output_type": "execute_result",
          "data": {
            "text/plain": [
              "16386171"
            ]
          },
          "metadata": {},
          "execution_count": 9
        }
      ]
    },
    {
      "cell_type": "code",
      "source": [
        "audio = video.streams.get_audio_only()\n",
        "fn = audio.download(output_path=\"tmp.mp3\") # Downlods only audio from youtube video"
      ],
      "metadata": {
        "id": "hhg2F7A9E6bH"
      },
      "execution_count": null,
      "outputs": []
    },
    {
      "cell_type": "markdown",
      "source": [
        "## 字幕呢？你需要的是 Whisper\n",
        "\n",
        "OpenAI 的 Whisper 模型是一個通用的語音辨識模型，它是通過大量不同種類的音訊資料進行訓練的。Whisper 在語音辨識、語音翻譯和語言識別等方面表現非常出色。Whisper 是語音處理的強大工具。它可以用於提高語音辨識系統的準確性，將一種語言的語音翻譯為另一種語言，以及識別口語語句的語言。\n",
        "\n",
        "官方連結：https://github.com/openai/whisper"
      ],
      "metadata": {
        "id": "sL-Fw3YwFAuT"
      }
    },
    {
      "cell_type": "markdown",
      "source": [
        "### 讀取 Whisper 模型"
      ],
      "metadata": {
        "id": "t0JYS7ZpBVbN"
      }
    },
    {
      "cell_type": "code",
      "source": [
        "import whisper "
      ],
      "metadata": {
        "id": "c_dmdMQgFJlT"
      },
      "execution_count": null,
      "outputs": []
    },
    {
      "cell_type": "code",
      "source": [
        "model = whisper.load_model(\"base\")"
      ],
      "metadata": {
        "id": "qqJa91YJE8g0"
      },
      "execution_count": null,
      "outputs": []
    },
    {
      "cell_type": "code",
      "source": [
        "mp3_file_path = \"/content/tmp.mp3/{}.mp4\".format('sample')\n",
        "transcription = model.transcribe(mp3_file_path) #約一分鐘"
      ],
      "metadata": {
        "id": "KzzNxRt-FEEi"
      },
      "execution_count": null,
      "outputs": []
    },
    {
      "cell_type": "code",
      "source": [
        "res = transcription['text']\n",
        "print(res)"
      ],
      "metadata": {
        "colab": {
          "base_uri": "https://localhost:8080/"
        },
        "id": "_8T_81EXFVgK",
        "outputId": "cf2953ec-47c8-41d9-83e9-af00205d0cab"
      },
      "execution_count": null,
      "outputs": [
        {
          "output_type": "stream",
          "name": "stdout",
          "text": [
            " In this video, we take a look at how Chet GPD works. We learn a lot from making this video. We hope you will learn something too. Let's dive right in. Chet GPD was released on November 30, 2022. It reached 100 million monthly active users in just 2 months. We took Instagram 2.5 years to reach the same milestone. This is the fastest growing app in history. Now how does Chet GPD work? The heart of Chet GPD is an LLM or a large language model. The default LLM for Chet GPD is GPT 3.5. Chet GPD could also use the latest GPT4 model. But there is not much technical details on GPT4 yet for us to talk about. Now what is a large language model? A large language model is a type of neural network-based model that is trained on massive amounts of text data to understand and generate human languages. The model uses the training data to learn the statistical patterns and relationships between words in the language and then utilizes this knowledge to predict the subsequent words, one word at a time. And LLM is often characterized by a size and a number of parameters it contains. The largest model of GPT 3.5 has 175 billion parameters spread across 96 layers in the neural network, making it one of the largest deep learning models ever created. The input and output to the model are organized by token. Now tokens are numerical representations of words or more accurately parts of the words. Numbers are used for tokens rather than words because they can be processed more efficiently. GPT 3.5 was trained on a large chunk of internet data. The source data contains 500 billion tokens. Looking at it another way, the model was trained on hundreds of billions of words. The model was trained to predict a next token given a sequence of input tokens. It is able to generate text that is structured in a way that is grammatically correct and semantically similar to the internet data it was trained on. But without proper guidance, the model can also generate outputs that are untruthful, toxic, or reflect harmful sentiments. One of that severe downsides, the model itself is already useful, but only in a very structured way. It can be taught to perform natural language tasks using carefully engineer text instructions or prompts. This is where the new field prompt engineering came from. To make the model safer and to be capable of questioning an answer in the style of a chat bot, the model is further fine tuned to become a version that was used in chat GPT. Now fine tuning is a process that turns the model that does not quite align with human values into a fine tuned model that chat GPT could use. This process is called reinforcement training from human feedback or LLHF. NAA explains how they ran LLHF on the model, but it is not easy to understand for non-ML people. Let's try to understand it with an analogy. Imagine GPT 3.5 is a highly skilled chef who can prepare a wide variety of dishes. The fine tuning GPT 3.5 with LLHF is that refining these chef skills to make dishes more delicious. Initially, the chef is trained with a large set of recipes and cooking techniques. However, sometimes the chef doesn't know which dish to make for a specific customer request. To help with this, we collect feedback from real people to create a new dataset. The first step is to create a comparison dataset. We ask the chef to prepare multiple dishes for a given request and then have people rank the dishes based on taste and presentation. This helps the chef understand which dishes are preferred by the customers. The next step is reward modeling. The chef uses his feedback to create a reward model, which is a guy for understanding customer preferences. To hire the reward, the better the dish. Next, we train the model with PPO or proximal policy optimization. In this analogy, the chef practices making dishes while following the reward model. They use a technique called proximal policy optimization to improve their skills. This is like the chef comparing their current dish with a slightly different version and learning which one is better according to the reward model. This process is repeated several times, with the chef refining their skills based on updated customer feedback. With each iteration, the chef becomes better at preparing dishes that satisfy customer preferences. To look at it another way, GPT 3.5 is fine tuned with Aula XF by gathering feedback from people, creating a reward model based on their preferences, and then iteratively improving the model's performance using PPO. This allows GPT 3.5 to generate better responses tailored to specific user requests. Now we understand how the model is trained and fine tuned. Let's take a look at how the model is used in chat GPT to answer prompt. Conceptually, it is as simple as feeding the prompt into the chat GPT model and returning the output. In reality, it is a bit more complicated. First, chat GPT knows the context of the chat conversation. This is done by chat GPT UI, feeding the model the entire past conversation. Every time a new prompt is entered, this is called conversational prompt injection. This is what chat GPT appears to be context aware. Second, chat GPT includes primary prompt engineering. These are pieces of instructions injected before and after the user's prompt to guide the model for a conversational tone. These prompts are invisible to the user. Third, the prompt is passed to the moderation API to warn or block certain types of unsafe content. The generated result is also likely to be passed to the moderation API before returning to the user. And that wraps up our journey into the fascinating world of chat GPT. There was a lot of engineering that went into creating the models used by chat GPT. The technology behind it is constantly evolving, opening doors to new possibilities and reshaping the way we communicate. Now tighten the seatbelt and enjoy the ride. If you like our videos, you might like our system design newsletter as well. It covers topics and trends in large scale system design. Trust it by 300,000 readers. Subscribe that blog.bybico.com\n"
          ]
        }
      ]
    },
    {
      "cell_type": "markdown",
      "source": [
        "### 分割字幕成為字幕檔 srt"
      ],
      "metadata": {
        "id": "bI2uyF1SHKUB"
      }
    },
    {
      "cell_type": "code",
      "source": [
        "from datetime import timedelta\n",
        "import os\n",
        "\n",
        "def transcribe_audio(segments):\n",
        "    VIDEO_FILENAME = \"example_video\"\n",
        "\n",
        "    for segment in segments['segments']:\n",
        "        startTime = str(0)+str(timedelta(seconds=int(segment['start'])))+',000'\n",
        "        endTime = str(0)+str(timedelta(seconds=int(segment['end'])))+',000'\n",
        "        text = segment['text']\n",
        "        segmentId = segment['id']+1\n",
        "        segment = f\"{segmentId}\\n{startTime} --> {endTime}\\n{text[1:] if text[0] == ' ' else text}\\n\\n\"\n",
        "\n",
        "        srtFilename = os.path.join(f\"{VIDEO_FILENAME}.srt\")\n",
        "        with open(srtFilename, 'a', encoding='utf-8') as srtFile:\n",
        "            srtFile.write(segment)\n",
        "\n",
        "    return srtFilename"
      ],
      "metadata": {
        "id": "m6OYkR81GKQG"
      },
      "execution_count": null,
      "outputs": []
    },
    {
      "cell_type": "code",
      "source": [
        "transcribe_audio(transcription)"
      ],
      "metadata": {
        "colab": {
          "base_uri": "https://localhost:8080/",
          "height": 35
        },
        "id": "d6MBNrAmGjmg",
        "outputId": "184eecc1-0114-4a04-8c3f-e9ca5ff1e050"
      },
      "execution_count": null,
      "outputs": [
        {
          "output_type": "execute_result",
          "data": {
            "text/plain": [
              "'example_video.srt'"
            ],
            "application/vnd.google.colaboratory.intrinsic+json": {
              "type": "string"
            }
          },
          "metadata": {},
          "execution_count": 16
        }
      ]
    },
    {
      "cell_type": "markdown",
      "source": [
        "### 使用 SRTLoader 讀取"
      ],
      "metadata": {
        "id": "rkv7OhZXOxE_"
      }
    },
    {
      "cell_type": "code",
      "source": [
        "from langchain.document_loaders import SRTLoader\n",
        "loader = SRTLoader(\"example_video.srt\")\n",
        "data = loader.load()"
      ],
      "metadata": {
        "id": "xgoNvfeeIK3V"
      },
      "execution_count": null,
      "outputs": []
    },
    {
      "cell_type": "code",
      "source": [
        "data"
      ],
      "metadata": {
        "colab": {
          "base_uri": "https://localhost:8080/"
        },
        "id": "uaPGsYmSUoWy",
        "outputId": "047f2525-3be8-480e-f113-e9672cf61ddd"
      },
      "execution_count": null,
      "outputs": [
        {
          "output_type": "execute_result",
          "data": {
            "text/plain": [
              "[Document(page_content=\"In this video, we take a look at how Chet GPD works. We learn a lot from making this video. We hope you will learn something too. Let's dive right in. Chet GPD was released on November 30, 2022. It reached 100 million monthly active users in just 2 months. We took Instagram 2.5 years to reach the same milestone. This is the fastest growing app in history. Now how does Chet GPD work? The heart of Chet GPD is an LLM or a large language model. The default LLM for Chet GPD is GPT 3.5. Chet GPD could also use the latest GPT4 model. But there is not much technical details on GPT4 yet for us to talk about. Now what is a large language model? A large language model is a type of neural network-based model that is trained on massive amounts of text data to understand and generate human languages. The model uses the training data to learn the statistical patterns and relationships between words in the language and then utilizes this knowledge to predict the subsequent words, one word at a time. And LLM is often characterized by a size and a number of parameters it contains. The largest model of GPT 3.5 has 175 billion parameters spread across 96 layers in the neural network, making it one of the largest deep learning models ever created. The input and output to the model are organized by token. Now tokens are numerical representations of words or more accurately parts of the words. Numbers are used for tokens rather than words because they can be processed more efficiently. GPT 3.5 was trained on a large chunk of internet data. The source data contains 500 billion tokens. Looking at it another way, the model was trained on hundreds of billions of words. The model was trained to predict a next token given a sequence of input tokens. It is able to generate text that is structured in a way that is grammatically correct and semantically similar to the internet data it was trained on. But without proper guidance, the model can also generate outputs that are untruthful, toxic, or reflect harmful sentiments. One of that severe downsides, the model itself is already useful, but only in a very structured way. It can be taught to perform natural language tasks using carefully engineer text instructions or prompts. This is where the new field prompt engineering came from. To make the model safer and to be capable of questioning an answer in the style of a chat bot, the model is further fine tuned to become a version that was used in chat GPT. Now fine tuning is a process that turns the model that does not quite align with human values into a fine tuned model that chat GPT could use. This process is called reinforcement training from human feedback or LLHF. NAA explains how they ran LLHF on the model, but it is not easy to understand for non-ML people. Let's try to understand it with an analogy. Imagine GPT 3.5 is a highly skilled chef who can prepare a wide variety of dishes. The fine tuning GPT 3.5 with LLHF is that refining these chef skills to make dishes more delicious. Initially, the chef is trained with a large set of recipes and cooking techniques. However, sometimes the chef doesn't know which dish to make for a specific customer request. To help with this, we collect feedback from real people to create a new dataset. The first step is to create a comparison dataset. We ask the chef to prepare multiple dishes for a given request and then have people rank the dishes based on taste and presentation. This helps the chef understand which dishes are preferred by the customers. The next step is reward modeling. The chef uses his feedback to create a reward model, which is a guy for understanding customer preferences. To hire the reward, the better the dish. Next, we train the model with PPO or proximal policy optimization. In this analogy, the chef practices making dishes while following the reward model. They use a technique called proximal policy optimization to improve their skills. This is like the chef comparing their current dish with a slightly different version and learning which one is better according to the reward model. This process is repeated several times, with the chef refining their skills based on updated customer feedback. With each iteration, the chef becomes better at preparing dishes that satisfy customer preferences. To look at it another way, GPT 3.5 is fine tuned with Aula XF by gathering feedback from people, creating a reward model based on their preferences, and then iteratively improving the model's performance using PPO. This allows GPT 3.5 to generate better responses tailored to specific user requests. Now we understand how the model is trained and fine tuned. Let's take a look at how the model is used in chat GPT to answer prompt. Conceptually, it is as simple as feeding the prompt into the chat GPT model and returning the output. In reality, it is a bit more complicated. First, chat GPT knows the context of the chat conversation. This is done by chat GPT UI, feeding the model the entire past conversation. Every time a new prompt is entered, this is called conversational prompt injection. This is what chat GPT appears to be context aware. Second, chat GPT includes primary prompt engineering. These are pieces of instructions injected before and after the user's prompt to guide the model for a conversational tone. These prompts are invisible to the user. Third, the prompt is passed to the moderation API to warn or block certain types of unsafe content. The generated result is also likely to be passed to the moderation API before returning to the user. And that wraps up our journey into the fascinating world of chat GPT. There was a lot of engineering that went into creating the models used by chat GPT. The technology behind it is constantly evolving, opening doors to new possibilities and reshaping the way we communicate. Now tighten the seatbelt and enjoy the ride. If you like our videos, you might like our system design newsletter as well. It covers topics and trends in large scale system design. Trust it by 300,000 readers. Subscribe that blog.bybico.com\", metadata={'source': 'example_video.srt'})]"
            ]
          },
          "metadata": {},
          "execution_count": 18
        }
      ]
    },
    {
      "cell_type": "markdown",
      "source": [
        "### 切割讀取進來的文檔"
      ],
      "metadata": {
        "id": "9Jv7PKfiO3Hf"
      }
    },
    {
      "cell_type": "code",
      "source": [
        "from langchain.text_splitter import TokenTextSplitter\n",
        "\n",
        "text_splitter = TokenTextSplitter.from_tiktoken_encoder(chunk_size=1000, chunk_overlap=0)\n",
        "docs = text_splitter.split_documents(data)"
      ],
      "metadata": {
        "id": "SnCE0uNyIpHV"
      },
      "execution_count": null,
      "outputs": []
    },
    {
      "cell_type": "code",
      "source": [
        "docs[0]"
      ],
      "metadata": {
        "colab": {
          "base_uri": "https://localhost:8080/"
        },
        "id": "O9437hGKUwVq",
        "outputId": "2d913e7f-b9c7-4980-a578-994c91905408"
      },
      "execution_count": null,
      "outputs": [
        {
          "output_type": "execute_result",
          "data": {
            "text/plain": [
              "Document(page_content=\"In this video, we take a look at how Chet GPD works. We learn a lot from making this video. We hope you will learn something too. Let's dive right in. Chet GPD was released on November 30, 2022. It reached 100 million monthly active users in just 2 months. We took Instagram 2.5 years to reach the same milestone. This is the fastest growing app in history. Now how does Chet GPD work? The heart of Chet GPD is an LLM or a large language model. The default LLM for Chet GPD is GPT 3.5. Chet GPD could also use the latest GPT4 model. But there is not much technical details on GPT4 yet for us to talk about. Now what is a large language model? A large language model is a type of neural network-based model that is trained on massive amounts of text data to understand and generate human languages. The model uses the training data to learn the statistical patterns and relationships between words in the language and then utilizes this knowledge to predict the subsequent words, one word at a time. And LLM is often characterized by a size and a number of parameters it contains. The largest model of GPT 3.5 has 175 billion parameters spread across 96 layers in the neural network, making it one of the largest deep learning models ever created. The input and output to the model are organized by token. Now tokens are numerical representations of words or more accurately parts of the words. Numbers are used for tokens rather than words because they can be processed more efficiently. GPT 3.5 was trained on a large chunk of internet data. The source data contains 500 billion tokens. Looking at it another way, the model was trained on hundreds of billions of words. The model was trained to predict a next token given a sequence of input tokens. It is able to generate text that is structured in a way that is grammatically correct and semantically similar to the internet data it was trained on. But without proper guidance, the model can also generate outputs that are untruthful, toxic, or reflect harmful sentiments. One of that severe downsides, the model itself is already useful, but only in a very structured way. It can be taught to perform natural language tasks using carefully engineer text instructions or prompts. This is where the new field prompt engineering came from. To make the model safer and to be capable of questioning an answer in the style of a chat bot, the model is further fine tuned to become a version that was used in chat GPT. Now fine tuning is a process that turns the model that does not quite align with human values into a fine tuned model that chat GPT could use. This process is called reinforcement training from human feedback or LLHF. NAA explains how they ran LLHF on the model, but it is not easy to understand for non-ML people. Let's try to understand it with an analogy. Imagine GPT 3.5 is a highly skilled chef who can prepare a wide variety of dishes. The fine tuning GPT 3.5 with LLHF is that refining these chef skills to make dishes more delicious. Initially, the chef is trained with a large set of recipes and cooking techniques. However, sometimes the chef doesn't know which dish to make for a specific customer request. To help with this, we collect feedback from real people to create a new dataset. The first step is to create a comparison dataset. We ask the chef to prepare multiple dishes for a given request and then have people rank the dishes based on taste and presentation. This helps the chef understand which dishes are preferred by the customers. The next step is reward modeling. The chef uses his feedback to create a reward model, which is a guy for understanding customer preferences. To hire the reward, the better the dish. Next, we train the model with PPO or proximal policy optimization. In this analogy, the chef practices making dishes while following the reward model. They use a technique called proximal policy optimization to improve their skills. This is like the chef comparing their current dish with a slightly different version and learning which one is better according to the reward model. This process is repeated several times, with the chef refining their skills based on updated customer feedback. With each iteration, the chef becomes better at preparing dishes that satisfy customer preferences. To look at it another way, GPT 3.5 is fine tuned with Aula XF by gathering feedback from people, creating a reward model based on their preferences, and then iteratively improving the model's performance using PPO. This allows GPT 3.5 to generate better responses tailored to specific user requests. Now we understand how the model is trained and fine tuned. Let's take a look at how the model is used in chat GPT to answer prompt. Conceptually, it is as simple as feeding the prompt into the chat GPT model\", metadata={'source': 'example_video.srt'})"
            ]
          },
          "metadata": {},
          "execution_count": 21
        }
      ]
    },
    {
      "cell_type": "markdown",
      "source": [
        "## 該呼叫 Chain 上場了：load_summarize_chain\n",
        "\n",
        "一條專注用來進行總結的 Chain，當中提供多種 Chain Type 進行設定\n",
        "\n",
        "\n",
        "* Stuff: 最簡單的方法，您只需將所有相關資料一次倒灌到 Prompt 中作為上下文傳遞給語言模型\n",
        "* map_reduce: 此方法涉及對每個 chunk 執行時的初始 prompt 語，在摘要任務中，一塊 Chunk 取得一塊摘要\n",
        "* refine: 生成一些輸出。對於剩餘 Document，該輸出與下一個文檔一起傳入，要求 LLM 根據新文檔改進輸出。\n",
        "\n",
        "\n",
        "\n",
        "官方連結：[load_summarize_chain](https://python.langchain.com/en/latest/modules/chains/index_examples/summarize.html)\n",
        "\n",
        "程式碼連結：[summarizing chains](https://github.com/hwchase17/langchain/blob/master/langchain/chains/summarize/__init__.py)\n"
      ],
      "metadata": {
        "id": "Gy8TTYMTJ8NA"
      }
    },
    {
      "cell_type": "code",
      "source": [
        "from langchain.chains.summarize import load_summarize_chain\n",
        "from langchain import OpenAI"
      ],
      "metadata": {
        "id": "JLMgJ6azHOgd"
      },
      "execution_count": null,
      "outputs": []
    },
    {
      "cell_type": "code",
      "source": [
        "llm=OpenAI(temperature=0)\n",
        "chain = load_summarize_chain(llm, chain_type=\"refine\", verbose=False)\n",
        "chain.run(docs)"
      ],
      "metadata": {
        "id": "IWVVlQAVKwKR",
        "colab": {
          "base_uri": "https://localhost:8080/",
          "height": 259
        },
        "outputId": "88f7fbc5-4dac-48ee-bd2c-ff8d09c23092"
      },
      "execution_count": null,
      "outputs": [
        {
          "output_type": "execute_result",
          "data": {
            "text/plain": [
              "\"\\n\\nChet GPD is a large language model (LLM) released in November 2022 that reached 100 million monthly active users in just two months. It is the fastest growing app in history and uses GPT 3.5 as its default LLM. The model is trained on 500 billion tokens of internet data and is fine tuned with Aula XF by gathering feedback from people, creating a reward model based on their preferences, and then iteratively improving the model's performance using PPO. This allows GPT 3.5 to generate better responses tailored to specific user requests. Additionally, it is context aware, thanks to conversational prompt injection and primary prompt engineering, and includes a moderation API to warn or block certain types of unsafe content.\""
            ],
            "application/vnd.google.colaboratory.intrinsic+json": {
              "type": "string"
            }
          },
          "metadata": {},
          "execution_count": 24
        }
      ]
    },
    {
      "cell_type": "markdown",
      "source": [
        "## 想要其他總結方式？你需要的是 Prompt\n",
        "\n",
        "「Prompt template」是一種可重複使用的產生 Prompt 的方式。它包含了一個文本字串（即「template」），可以接受來自最終使用者的一組參數，並生成一個 Prompt。\n",
        "\n",
        "官方連結：[Prompt template](https://python.langchain.com/en/latest/modules/prompts/prompt_templates/getting_started.html#what-is-a-prompt-template)"
      ],
      "metadata": {
        "id": "JsaeDi249dY1"
      }
    },
    {
      "cell_type": "code",
      "source": [
        "from langchain.prompts import PromptTemplate\n",
        "\n",
        "# define map prompt\n",
        "map_prompt = \"\"\"Write a concise summary of the following short transcript from a youtube.\n",
        "Don't add your opinions or interpretations.\n",
        "\n",
        "\n",
        "{text}\n",
        "\n",
        "\n",
        "CONCISE SUMMARY:\"\"\"\n",
        "\n",
        "# define combine prompt\n",
        "combine_prompt = \"\"\"You have been provided with summaries of chunks of transcripts from a youtube.\n",
        "Your task is to merge these intermediate summaries to create a brief and comprehensive summary of the entire youtube.\n",
        "The summary should encompass all the crucial points of the youtube.\n",
        "Ensure that the summary is at least 2 paragraph long and effectively captures the essence of the youtube.\n",
        "{text}\n",
        "\n",
        "\n",
        "SUMMARY:\"\"\"\n",
        "\n",
        "map_prompt_template = PromptTemplate(template=map_prompt, input_variables=[\"text\"])\n",
        "combine_prompt_template = PromptTemplate(template=combine_prompt, input_variables=[\"text\"])\n",
        "\n",
        "# initialize the summarizer chain\n",
        "chain = load_summarize_chain(\n",
        "    llm,\n",
        "    chain_type=\"map_reduce\",\n",
        "    return_intermediate_steps=True,\n",
        "    map_prompt=map_prompt_template,\n",
        "    combine_prompt=combine_prompt_template,\n",
        ")\n",
        "\n",
        "summary = chain({\"input_documents\": docs}, return_only_outputs=True)"
      ],
      "metadata": {
        "id": "4JlTHL_R9lbj"
      },
      "execution_count": null,
      "outputs": []
    },
    {
      "cell_type": "code",
      "source": [
        "summary['output_text']"
      ],
      "metadata": {
        "colab": {
          "base_uri": "https://localhost:8080/",
          "height": 259
        },
        "id": "RULRVJ-G-bYs",
        "outputId": "db3edd4e-fb6f-403d-fc1a-6cd42d8f26d9"
      },
      "execution_count": null,
      "outputs": [
        {
          "output_type": "execute_result",
          "data": {
            "text/plain": [
              "\"\\nChet GPD is a revolutionary app that was released in November 2022 and quickly gained 100 million monthly active users, making it the fastest growing app in history. It uses a large language model (LLM) called GPT 3.5, which is a type of neural network-based model trained on massive amounts of text data. To further refine the model, Chet GPD uses feedback from people, creating a reward model based on their preferences, and then iteratively improving the model's performance using proximal policy optimization. Chat GPT is a complex technology that uses context awareness, primary prompt engineering, and a moderation API to generate responses to user prompts, and is constantly evolving and reshaping the way we communicate.\""
            ],
            "application/vnd.google.colaboratory.intrinsic+json": {
              "type": "string"
            }
          },
          "metadata": {},
          "execution_count": 26
        }
      ]
    },
    {
      "cell_type": "code",
      "source": [],
      "metadata": {
        "id": "8T-1kP9QMqL_"
      },
      "execution_count": null,
      "outputs": []
    }
  ]
}