{
  "nbformat": 4,
  "nbformat_minor": 0,
  "metadata": {
    "colab": {
      "provenance": [],
      "gpuType": "T4"
    },
    "kernelspec": {
      "name": "python3",
      "display_name": "Python 3"
    },
    "language_info": {
      "name": "python"
    },
    "accelerator": "GPU",
    "gpuClass": "standard"
  },
  "cells": [
    {
      "cell_type": "markdown",
      "source": [
        "# Chat with pdf file\n",
        "\n",
        "Langchain 是一個讓使用者可以與其 PDF 檔案進行對話的工具。這意味著使用者可以以對話格式向 PDF 檔案提問，並獲得回答。例如，使用者可以問 PDF 檔案「法國的首都是哪裡？」，PDF 檔案會回答「巴黎」。Langchain 可以用於任何 PDF 檔案，是一個讓使用者更充分利用 PDF 檔案的好方法。"
      ],
      "metadata": {
        "id": "kXovt_mgOrvb"
      }
    },
    {
      "cell_type": "markdown",
      "source": [
        "## 套件安裝與環境設置"
      ],
      "metadata": {
        "id": "dCxcxWGy9j38"
      }
    },
    {
      "cell_type": "markdown",
      "source": [
        "### 安裝套件包\n",
        "\n"
      ],
      "metadata": {
        "id": "lkKWL125KpQ6"
      }
    },
    {
      "cell_type": "code",
      "source": [
        "!pip install openai\n",
        "!pip install langchain\n",
        "!pip install PyPDF2\n",
        "!pip install chromadb\n",
        "!pip install tiktoken\n",
        "!pip install pymupdf\n",
        "!pip install pypdf"
      ],
      "metadata": {
        "id": "S51sT6WgKsk9"
      },
      "execution_count": null,
      "outputs": []
    },
    {
      "cell_type": "markdown",
      "source": [
        "### 環境參數設置\n",
        "\n",
        "本章節中，將會使用到 OpenAI API key。"
      ],
      "metadata": {
        "id": "qcnCtrSoKyt6"
      }
    },
    {
      "cell_type": "code",
      "source": [
        "import os\n",
        "os.environ[\"OPENAI_API_KEY\"] = \"sk-xxxx\" # 會是 sk-XXXX 樣式的字樣"
      ],
      "metadata": {
        "id": "qsuGBc7cKzVx"
      },
      "execution_count": null,
      "outputs": []
    },
    {
      "cell_type": "markdown",
      "source": [
        "### 連接至 Google Drive"
      ],
      "metadata": {
        "id": "ulmH49jpLABE"
      }
    },
    {
      "cell_type": "code",
      "source": [
        "# connect your Google Drive\n",
        "from google.colab import drive\n",
        "drive.mount('/content/gdrive', force_remount=True)\n",
        "root_dir = \"/content/gdrive/My Drive/\"\n",
        "file_path = '/content/gdrive/My Drive/field-guide-to-data-science.pdf'"
      ],
      "metadata": {
        "id": "eVUcPnxuLDqu"
      },
      "execution_count": null,
      "outputs": []
    },
    {
      "cell_type": "markdown",
      "source": [
        "## 讀取 PDF 檔案的多種方法\n",
        "這邊將介紹多少可以讀取 PDF 的方式\n",
        "\n",
        "* PyPdf2\n",
        "* PyPdfLoader\n",
        "* PyMuPDFLoader\n",
        "\n",
        "官方連結：[Document_loaders](https://python.langchain.com/en/latest/modules/indexes/document_loaders/examples/pdf.html#pdf)\n",
        "\n"
      ],
      "metadata": {
        "id": "TdN9N_Ey7ZLY"
      }
    },
    {
      "cell_type": "markdown",
      "source": [
        "### 讀取 PDF 檔案 - PyPDF2 作法\n"
      ],
      "metadata": {
        "id": "635ts_aTMD79"
      }
    },
    {
      "cell_type": "code",
      "execution_count": null,
      "metadata": {
        "id": "biVHwwWDOpIO"
      },
      "outputs": [],
      "source": [
        "# 從 PyPDF2 引入 PdfReader class 進行作用\n",
        "from PyPDF2 import PdfReader\n",
        "\n",
        "# 擺放 Pdf 的檔案路徑，這邊是採用 Google Drive 路徑做示範：'/content/gdrive/MyDrive/field-guide-to-data-science.pdf'。\n",
        "pdfreader = PdfReader(file_path)\n",
        "\n",
        "# 從路徑中讀取檔案，並且放進名為 raw_text 變數當中做存放\n",
        "raw_text = ''\n",
        "for i, page in enumerate(pdfreader.pages):\n",
        "    text = page.extract_text()\n",
        "    if text:\n",
        "        raw_text += text"
      ]
    },
    {
      "cell_type": "code",
      "source": [
        "# 顯示部分文字出來瞅瞅\n",
        "raw_text[:100]"
      ],
      "metadata": {
        "id": "g-HWEuZ6M1tZ"
      },
      "execution_count": null,
      "outputs": []
    },
    {
      "cell_type": "markdown",
      "source": [
        "### 讀取 PDF 檔案 - PyPdfLoader\n",
        "\n",
        "用 pypdf 將 PDF 載入成包含頁面內容和頁碼元資料的文件陣列。每個文件都包含了該頁面的內容和元資料，例如頁碼等。\n",
        "\n",
        "參考用官方連結：[Using PyPDF](https://python.langchain.com/en/latest/modules/indexes/document_loaders/examples/pdf.html#using-pypdf)\n",
        "\n"
      ],
      "metadata": {
        "id": "eUQDCv8MNiQe"
      }
    },
    {
      "cell_type": "code",
      "source": [
        "from langchain.document_loaders import PyPDFLoader\n",
        "pypdf_loader = PyPDFLoader(file_path)\n",
        "pypdf_doc = pypdf_loader.load()"
      ],
      "metadata": {
        "id": "qv7PCS16MIOo"
      },
      "execution_count": null,
      "outputs": []
    },
    {
      "cell_type": "code",
      "source": [
        "pypdf_doc[20]"
      ],
      "metadata": {
        "id": "ix2gmG3bMeax"
      },
      "execution_count": null,
      "outputs": []
    },
    {
      "cell_type": "markdown",
      "source": [
        "### 讀取 PDF 檔案 - PyMuPDFLoader\n",
        "\n",
        "這是 PDF 解析選項中最快的，並且包含有關 PDF 及其頁面的詳細元資料，以期高渲染速度聞名。\n",
        "\n",
        "參考用官方連結：[Using PyMuPDFLoader](https://python.langchain.com/en/latest/modules/indexes/document_loaders/examples/pdf.html#PyMuPDFLoader)\n",
        "\n"
      ],
      "metadata": {
        "id": "Ta2iR-1HAdaR"
      }
    },
    {
      "cell_type": "code",
      "source": [
        "from langchain.document_loaders import PyMuPDFLoader\n",
        "pyMuPDFLoader = PyMuPDFLoader(file_path)\n",
        "pyMuPDF_doc = pyMuPDFLoader.load()"
      ],
      "metadata": {
        "id": "27Ts3MDFAeeQ"
      },
      "execution_count": null,
      "outputs": []
    },
    {
      "cell_type": "code",
      "source": [
        "pyMuPDF_doc[2]"
      ],
      "metadata": {
        "id": "VPVOlZU6BPfC"
      },
      "execution_count": null,
      "outputs": []
    },
    {
      "cell_type": "markdown",
      "source": [
        "## 使用 QA_Chain 與文件對話！\n",
        "\n",
        "Langchain中的 load_qa_chain 函數用於加載一個可以用來回答問題的 Chain。 chain_type 參數可用於指定加載的鏈的類型。 chain_type 的可能值為 stuff, map_reduce, refine, map_rerank。\n",
        "\n",
        "* Stuff: 把所有的文本一次性傳給 LLM 進行總結。如果文本長度超過 LLM Token 時將會炸裂，對長文不會使用這個方式。（一般來說都不會用就是）\n",
        "* map_reduce: 此法是先將文本分成多個小 batch 後，並針對每個小 batch 進行總結。\n",
        "* refine: 此法將文本分成多個小 Batch 之後，有順序的先對第一個 batch 總結，之後結合第二個 batch 進行總結，以此類推，可以增加上下文連貫性。\n",
        "* map_rerank: 此法比較像是 Retrival ，會將文本與提出的問題進行比對，找到最接近的那一項，接著交給 LLM，在接手 LLM 的回答。\n",
        "\n",
        "\n",
        "官方連結：[Question Answering](https://python.langchain.com/en/latest/modules/chains/index_examples/question_answering.html)\n"
      ],
      "metadata": {
        "id": "fQfqnfh0EVWY"
      }
    },
    {
      "cell_type": "code",
      "source": [
        "from langchain.llms import OpenAI\n",
        "from langchain.chains.question_answering import load_qa_chain\n",
        "\n",
        "# 讀取文件\n",
        "pyMuPDFLoader = PyMuPDFLoader(file_path)\n",
        "pyMuPDF_doc = pyMuPDFLoader.load()\n"
      ],
      "metadata": {
        "id": "2AyzLz5_EdFf"
      },
      "execution_count": null,
      "outputs": []
    },
    {
      "cell_type": "code",
      "source": [
        "# 建構 QA_chain, Chain_type 有 stuff, map_reduce, refine, map_rerank\n",
        "chain = load_qa_chain(llm=OpenAI(), chain_type=\"stuff\") #當你出現 error 4097 token 錯誤資訊時，將 stuff 改成 map_reduce\n",
        "\n",
        "# 問問題時間！\n",
        "query = \"what is the main point in this book?\"\n",
        "chain.run(input_documents=pyMuPDF_doc, question=query)"
      ],
      "metadata": {
        "id": "71oqsArREusM"
      },
      "execution_count": null,
      "outputs": []
    },
    {
      "cell_type": "markdown",
      "source": [
        "## 切割文件機制\n",
        "\n",
        "Langchain 中的 Text Splitters 是一種工具，可用於將長文本拆分為更小、更易於管理的塊。這可用於各種任務，例如：\n",
        "\n",
        "*   總結文本：通過將文本分成較小的塊，可以更容易地識別文本的要點並以簡潔的方式進行總結。\n",
        "*   索引文本：通過將文本拆分成更小的塊，可以更輕鬆地索引文本，以便更有效地搜索它。\n",
        "\n",
        "Langchain 中的 Text Splitters 是一個強大的工具，可以通過多種方式對文本進行處理和分析。如果您正在處理大段文本，那麼 Text Splitters 可能是你正在尋找的。\n",
        "\n",
        "\n",
        "官方連結：[Text Splitters](https://python.langchain.com/en/latest/modules/indexes/text_splitters/getting_started.html#getting-started)"
      ],
      "metadata": {
        "id": "PYKm3CKL8I9l"
      }
    },
    {
      "cell_type": "code",
      "source": [
        "from langchain.text_splitter import RecursiveCharacterTextSplitter\n",
        "splitter = RecursiveCharacterTextSplitter(chunk_size=1000, chunk_overlap=0)"
      ],
      "metadata": {
        "id": "gus1o2TaOr1j"
      },
      "execution_count": null,
      "outputs": []
    },
    {
      "cell_type": "code",
      "source": [
        "pages = pyMuPDFLoader.load_and_split(splitter)"
      ],
      "metadata": {
        "id": "e79Y9FxCNsXp"
      },
      "execution_count": null,
      "outputs": []
    },
    {
      "cell_type": "code",
      "source": [
        "pages[0]"
      ],
      "metadata": {
        "id": "hT-HoacaOchg"
      },
      "execution_count": null,
      "outputs": []
    },
    {
      "cell_type": "code",
      "source": [
        "pages[1]"
      ],
      "metadata": {
        "id": "U1sEWfScPaDP"
      },
      "execution_count": null,
      "outputs": []
    },
    {
      "cell_type": "markdown",
      "source": [
        "## 向量化小文本並放進向量資料庫中\n"
      ],
      "metadata": {
        "id": "L6FnerFp-rlR"
      }
    },
    {
      "cell_type": "markdown",
      "source": [
        "### 讀取 Embedding"
      ],
      "metadata": {
        "id": "H-m0ckOpRfRx"
      }
    },
    {
      "cell_type": "code",
      "source": [
        "from langchain.embeddings.openai import OpenAIEmbeddings"
      ],
      "metadata": {
        "id": "Mt3hG-H6R7G_"
      },
      "execution_count": null,
      "outputs": []
    },
    {
      "cell_type": "code",
      "source": [
        "# Download embeddings from OpenAI\n",
        "embeddings = OpenAIEmbeddings()"
      ],
      "metadata": {
        "id": "L2lLV6tdPcub"
      },
      "execution_count": null,
      "outputs": []
    },
    {
      "cell_type": "markdown",
      "source": [
        "### 存放至 Chroma - 向量資料庫\n",
        "\n",
        "官方連結：[Chroma](https://python.langchain.com/en/latest/modules/indexes/vectorstores/examples/chroma.html#chroma)"
      ],
      "metadata": {
        "id": "wuuAp8svRhG-"
      }
    },
    {
      "cell_type": "code",
      "source": [
        "from langchain.vectorstores import Chroma"
      ],
      "metadata": {
        "id": "ZwD0cjKuRmAX"
      },
      "execution_count": null,
      "outputs": []
    },
    {
      "cell_type": "code",
      "source": [
        "db = Chroma.from_documents(documents=pages, embedding=embeddings, persist_directory='db')"
      ],
      "metadata": {
        "id": "mMYHrBdcSAQX"
      },
      "execution_count": null,
      "outputs": []
    },
    {
      "cell_type": "code",
      "source": [
        "db"
      ],
      "metadata": {
        "id": "Hr4Z8ICsSHL0"
      },
      "execution_count": null,
      "outputs": []
    },
    {
      "cell_type": "markdown",
      "source": [
        "## 多種使用 Chain 與文件對話的方式\n",
        "\n",
        "* RetrievalQA\n",
        "* ConversationalRetrievalChain\n",
        "\n"
      ],
      "metadata": {
        "id": "tgIU8lH49Efn"
      }
    },
    {
      "cell_type": "markdown",
      "source": [
        "### RetrievalQA\n",
        "\n",
        "RetrievalQA Chain 用意是在通過檢索向量資料庫中與問題最相近的向量進行回答，當中我們引入新的觀念 Retriever，透過 Retriever 來進行比較相似度，方法有兩個，分別為'mmr' 與 'similarity'，還可以設置要比較的數量\n",
        "\n",
        "* Chain 官方連結：[Retrieval Question/Answering](https://python.langchain.com/en/latest/modules/chains/index_examples/vector_db_qa.html)\n",
        "* VectorStore Retriever 官方連結：[VectorStore Retriever](https://python.langchain.com/en/latest/modules/indexes/retrievers/examples/vectorstore-retriever.html#vectorstore-retriever)\n"
      ],
      "metadata": {
        "id": "q57IlZkES0wA"
      }
    },
    {
      "cell_type": "code",
      "source": [
        "from langchain.llms import OpenAI\n",
        "from langchain.chains import RetrievalQA\n",
        "from langchain.text_splitter import RecursiveCharacterTextSplitter\n",
        "from langchain.embeddings import OpenAIEmbeddings\n",
        "from langchain.vectorstores import Chroma\n",
        "\n",
        "# 讀取文件\n",
        "pyMuPDFLoader = PyMuPDFLoader(file_path)\n",
        "pyMuPDF_doc = pyMuPDFLoader.load()\n",
        "\n",
        "# 切割文件\n",
        "splitter = RecursiveCharacterTextSplitter(chunk_size=1000, chunk_overlap=0)\n",
        "#pages = pyMuPDFLoader.load_and_split(splitter)\n",
        "pages = splitter.split_documents(pyMuPDF_doc)\n",
        "\n",
        "# 選擇要用的 embedding 並存放進向量資料庫\n",
        "embeddings = OpenAIEmbeddings()\n",
        "db = Chroma.from_documents(pages, embeddings)\n",
        "\n",
        "# 使用 retrievaler 進行檢索\n",
        "retriever = db.as_retriever(search_type=\"similarity\", search_kwargs={\"k\":5})\n",
        "\n",
        "# 建構 QA Chain 來進行問答\n",
        "qa = RetrievalQA.from_chain_type(\n",
        "    llm=OpenAI(), chain_type=\"stuff\", retriever=retriever, return_source_documents=True)\n"
      ],
      "metadata": {
        "id": "PALhgsNhTrem"
      },
      "execution_count": null,
      "outputs": []
    },
    {
      "cell_type": "code",
      "source": [
        "query = \"what is the main point in this book?\"\n",
        "result = qa({\"query\": query})"
      ],
      "metadata": {
        "id": "aEZEs3EvNa36"
      },
      "execution_count": null,
      "outputs": []
    },
    {
      "cell_type": "code",
      "source": [
        "result[\"result\"]"
      ],
      "metadata": {
        "id": "OUpyScmLPXIj"
      },
      "execution_count": null,
      "outputs": []
    },
    {
      "cell_type": "code",
      "source": [
        "result[\"source_documents\"]"
      ],
      "metadata": {
        "id": "fnS7nKRFPZZb"
      },
      "execution_count": null,
      "outputs": []
    },
    {
      "cell_type": "markdown",
      "source": [
        "### ConversationalRetrievalChain\n",
        "\n",
        "官方連結：[Chat Over Documents with Chat History](https://python.langchain.com/en/latest/modules/chains/index_examples/chat_vector_db.html#chat-over-documents-with-chat-history)"
      ],
      "metadata": {
        "id": "JA4vuOBrPmk5"
      }
    },
    {
      "cell_type": "code",
      "source": [
        "from langchain.llms import OpenAI\n",
        "from langchain.chains import ConversationalRetrievalChain\n",
        "from langchain.text_splitter import RecursiveCharacterTextSplitter\n",
        "from langchain.embeddings import OpenAIEmbeddings\n",
        "from langchain.vectorstores import Chroma\n",
        "from langchain.memory import ConversationBufferMemory\n",
        "\n",
        "\n",
        "# 讀取文件\n",
        "pyMuPDFLoader = PyMuPDFLoader(file_path)\n",
        "pyMuPDF_doc = pyMuPDFLoader.load()\n",
        "\n",
        "# 切割文件\n",
        "splitter = RecursiveCharacterTextSplitter(chunk_size=1000, chunk_overlap=0)\n",
        "#pages = pyMuPDFLoader.load_and_split(splitter)\n",
        "pages = splitter.split_documents(pyMuPDF_doc)\n",
        "\n",
        "# 選擇要用的 embedding 並存放進向量資料庫\n",
        "embeddings = OpenAIEmbeddings()\n",
        "db = Chroma.from_documents(pages, embeddings)\n",
        "\n",
        "# 使用 retrievaler 進行檢索\n",
        "retriever = db.as_retriever(search_type=\"similarity\", search_kwargs={\"k\":5})\n",
        "\n",
        "# 建構 Memorry 來保存聊天記錄\n",
        "memory = ConversationBufferMemory(memory_key=\"chat_history\", return_messages=True)\n",
        "\n",
        "# 建構 QA Chain 來進行問答\n",
        "qa = ConversationalRetrievalChain.from_llm(\n",
        "    llm=OpenAI(), chain_type=\"stuff\", retriever=retriever, memory=memory)\n"
      ],
      "metadata": {
        "id": "guYlIFyoPama"
      },
      "execution_count": null,
      "outputs": []
    },
    {
      "cell_type": "code",
      "source": [
        "query = \"what is the main point in this book?\"\n",
        "result = qa({\"question\": query})"
      ],
      "metadata": {
        "id": "ux707Q3rQvxB"
      },
      "execution_count": null,
      "outputs": []
    },
    {
      "cell_type": "code",
      "source": [
        "result[\"answer\"]"
      ],
      "metadata": {
        "id": "SEss9kDAREGF"
      },
      "execution_count": null,
      "outputs": []
    },
    {
      "cell_type": "code",
      "source": [
        "query = \"can you rewrite it?\"\n",
        "result = qa({\"question\": query})"
      ],
      "metadata": {
        "id": "4aHZvJfRRs5-"
      },
      "execution_count": null,
      "outputs": []
    },
    {
      "cell_type": "code",
      "source": [
        "result[\"answer\"]"
      ],
      "metadata": {
        "id": "sxPQGHRURxpR"
      },
      "execution_count": null,
      "outputs": []
    },
    {
      "cell_type": "code",
      "source": [],
      "metadata": {
        "id": "9_NVt4bbRzyy"
      },
      "execution_count": null,
      "outputs": []
    }
  ]
}